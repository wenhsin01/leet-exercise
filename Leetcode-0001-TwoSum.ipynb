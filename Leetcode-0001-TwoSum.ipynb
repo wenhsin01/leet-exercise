{
  "nbformat": 4,
  "nbformat_minor": 0,
  "metadata": {
    "colab": {
      "provenance": []
    },
    "kernelspec": {
      "name": "python3",
      "display_name": "Python 3"
    },
    "language_info": {
      "name": "python"
    }
  },
  "cells": [
    {
      "cell_type": "markdown",
      "source": [
        "# Leetcode-0001-TwoSum"
      ],
      "metadata": {
        "id": "s1EKeZa99vjI"
      }
    },
    {
      "cell_type": "code",
      "execution_count": 1,
      "metadata": {
        "colab": {
          "base_uri": "https://localhost:8080/"
        },
        "id": "y4EgVT_ryTqa",
        "outputId": "9f9f9d62-4b35-4b69-b049-d376faee55d7"
      },
      "outputs": [
        {
          "output_type": "stream",
          "name": "stdout",
          "text": [
            "[0, 1]\n"
          ]
        }
      ],
      "source": [
        "#範例一\n",
        "nums = [2,7,11,15]\n",
        "target = 9\n",
        "for i in range(len(nums)):\n",
        "  for j in range(i+1, len(nums)):\n",
        "    if i == j:\n",
        "      continue\n",
        "    if nums[i] + nums[ j] == target:\n",
        "      print([i, j])"
      ]
    },
    {
      "cell_type": "code",
      "source": [
        "#範例二\n",
        "nums = [3,2,4]\n",
        "target = 6\n",
        "for i in range(len(nums)):\n",
        "  for j in range(i+1, len(nums)):\n",
        "    if i == j:\n",
        "      continue\n",
        "    if nums[i] + nums[ j] == target:\n",
        "      print([i, j])"
      ],
      "metadata": {
        "colab": {
          "base_uri": "https://localhost:8080/"
        },
        "id": "wSwVqSOt9bi3",
        "outputId": "0dcbd83a-a638-4f9e-8d61-2b8384e6a559"
      },
      "execution_count": 7,
      "outputs": [
        {
          "output_type": "stream",
          "name": "stdout",
          "text": [
            "[1, 2]\n"
          ]
        }
      ]
    },
    {
      "cell_type": "code",
      "source": [
        "#範例三\n",
        "nums = [3,3]\n",
        "target = 6\n",
        "for i in range(len(nums)):\n",
        "  for j in range(i+1, len(nums)):\n",
        "    if i == j:\n",
        "      continue\n",
        "    if nums[i] + nums[ j] == target:\n",
        "      print([i, j])"
      ],
      "metadata": {
        "colab": {
          "base_uri": "https://localhost:8080/"
        },
        "id": "f4YkBsis_nPF",
        "outputId": "ec65d1f4-1e6e-4827-bc2e-f28dec016b09"
      },
      "execution_count": 8,
      "outputs": [
        {
          "output_type": "stream",
          "name": "stdout",
          "text": [
            "[0, 1]\n"
          ]
        }
      ]
    }
  ]
}